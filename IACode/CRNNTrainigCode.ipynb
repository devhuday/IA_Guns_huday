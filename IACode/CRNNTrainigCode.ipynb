{
 "cells": [
  {
   "cell_type": "code",
   "execution_count": 2,
   "metadata": {},
   "outputs": [
    {
     "ename": "ModuleNotFoundError",
     "evalue": "No module named 'matplotlib'",
     "output_type": "error",
     "traceback": [
      "\u001b[1;31m---------------------------------------------------------------------------\u001b[0m",
      "\u001b[1;31mModuleNotFoundError\u001b[0m                       Traceback (most recent call last)",
      "Cell \u001b[1;32mIn[2], line 2\u001b[0m\n\u001b[0;32m      1\u001b[0m \u001b[38;5;28;01mimport\u001b[39;00m \u001b[38;5;21;01mlibrosa\u001b[39;00m\n\u001b[1;32m----> 2\u001b[0m \u001b[38;5;28;01mimport\u001b[39;00m \u001b[38;5;21;01mlibrosa\u001b[39;00m\u001b[38;5;21;01m.\u001b[39;00m\u001b[38;5;21;01mdisplay\u001b[39;00m\n\u001b[0;32m      3\u001b[0m \u001b[38;5;28;01mimport\u001b[39;00m \u001b[38;5;21;01mnumpy\u001b[39;00m \u001b[38;5;28;01mas\u001b[39;00m \u001b[38;5;21;01mnp\u001b[39;00m\n\u001b[0;32m      4\u001b[0m \u001b[38;5;28;01mimport\u001b[39;00m \u001b[38;5;21;01mtensorflow\u001b[39;00m\n",
      "File \u001b[1;32m~\\AppData\\Roaming\\Python\\Python312\\site-packages\\librosa\\display.py:44\u001b[0m\n\u001b[0;32m     41\u001b[0m \u001b[38;5;28;01mimport\u001b[39;00m \u001b[38;5;21;01mwarnings\u001b[39;00m\n\u001b[0;32m     43\u001b[0m \u001b[38;5;28;01mimport\u001b[39;00m \u001b[38;5;21;01mnumpy\u001b[39;00m \u001b[38;5;28;01mas\u001b[39;00m \u001b[38;5;21;01mnp\u001b[39;00m\n\u001b[1;32m---> 44\u001b[0m \u001b[38;5;28;01mfrom\u001b[39;00m \u001b[38;5;21;01mmatplotlib\u001b[39;00m \u001b[38;5;28;01mimport\u001b[39;00m colormaps \u001b[38;5;28;01mas\u001b[39;00m mcm\n\u001b[0;32m     45\u001b[0m \u001b[38;5;28;01mimport\u001b[39;00m \u001b[38;5;21;01mmatplotlib\u001b[39;00m\u001b[38;5;21;01m.\u001b[39;00m\u001b[38;5;21;01maxes\u001b[39;00m \u001b[38;5;28;01mas\u001b[39;00m \u001b[38;5;21;01mmplaxes\u001b[39;00m\n\u001b[0;32m     46\u001b[0m \u001b[38;5;28;01mimport\u001b[39;00m \u001b[38;5;21;01mmatplotlib\u001b[39;00m\u001b[38;5;21;01m.\u001b[39;00m\u001b[38;5;21;01mticker\u001b[39;00m \u001b[38;5;28;01mas\u001b[39;00m \u001b[38;5;21;01mmplticker\u001b[39;00m\n",
      "\u001b[1;31mModuleNotFoundError\u001b[0m: No module named 'matplotlib'"
     ]
    }
   ],
   "source": [
    "import librosa\n",
    "import librosa.display\n",
    "import numpy as np\n",
    "import tensorflow\n",
    "import matplotlib.pyplot as plt\n",
    "#%pip install noisereduce\n",
    "import noisereduce as nr\n",
    "import soundfile as sf\n",
    "import os\n",
    "import pandas as pd\n",
    "import time\n",
    "from IPython.display import clear_output\n",
    "from tensorflow.keras.models import Sequential\n",
    "from tensorflow.keras.layers import Conv2D, MaxPooling2D, LSTM, Dense, Flatten, TimeDistributed, Reshape\n",
    "from sklearn.model_selection import train_test_split\n",
    "from sklearn.metrics import confusion_matrix, classification_report\n",
    "import seaborn as sns"
   ]
  },
  {
   "cell_type": "code",
   "execution_count": 2,
   "metadata": {},
   "outputs": [],
   "source": [
    "def extract_spectrogram(file_path, duration = 4): \n",
    "    #cargar audios\n",
    "    Audio, Sample = librosa.load(file_path)\n",
    "    numMuestras = duration*Sample\n",
    "    #gggg\n",
    "    #ajuste la duracion \n",
    "    if len(Audio)>numMuestras:\n",
    "        Audio = Audio[:Sample*4]\n",
    "    else:\n",
    "        silence = np.zeros(numMuestras-len(Audio))\n",
    "        Audio = np.concatenate([Audio,silence])\n",
    "    \n",
    "    #guardado y generacion de espectograma\n",
    "    spect = librosa.stft(Audio)\n",
    "    spectInDb = librosa.amplitude_to_db(spect)\n",
    "    return spectInDb\n",
    "\n",
    "def importAudios(audio_path, metadata, features, labels, top = 2999):\n",
    "    #inicializo variables para contabilizar el numero de audios\n",
    "    numGun=0\n",
    "    numNoGun=0\n",
    "    \n",
    "    for index, row in metadata.iterrows():\n",
    "        file_name = os.path.join(audio_path, f\"fold{row['fold']}\", row['slice_file_name'])\n",
    "    \n",
    "        class_id = row['classID']\n",
    "        # Etiquetar como '1' si classID es 6, de lo contrario como '0'\n",
    "        class_label = 1.0 if class_id == 6 else 0.0\n",
    "        if numGun>top: \n",
    "            print(\"skip\")\n",
    "            break\n",
    "        if numNoGun>top and class_label != 1.0:\n",
    "            continue\n",
    "        numGun, numNoGun = numGun + (class_label == 1), numNoGun + (class_label != 1)\n",
    "        # Extraer características y etiquetas\n",
    "        data = extract_spectrogram(file_name) \n",
    "        features.append(data)\n",
    "        labels.append(class_label) \n",
    "    print(f\"lungitud: {len(features)}\")\n",
    "    print(f\"num G:{numGun}, num no G:{numNoGun}\")\n",
    "    return features, labels\n",
    "\n",
    "def extract_properties(file_path):\n",
    "    audio, dsfds = librosa.load(file_path)\n",
    "    spect = librosa.stft(audio)\n",
    "    spect_db = librosa.amplitude_to_db(spect, ref=np.max)\n",
    "    n_bands, n_frames = spect_db.shape\n",
    "    \n",
    "    return n_bands, n_frames"
   ]
  },
  {
   "cell_type": "code",
   "execution_count": null,
   "metadata": {},
   "outputs": [],
   "source": [
    "metadata = pd.read_csv('D:/Workspace/tesis/audioMetadata/archive/UrbanSound8K2.csv')\n",
    "audio_path = 'D:/Workspace/tesis/audioMetadata/archive'\n",
    "print(metadata.head())"
   ]
  },
  {
   "cell_type": "code",
   "execution_count": null,
   "metadata": {},
   "outputs": [],
   "source": [
    "features = []\n",
    "labels = []\n",
    "features, labels = importAudios(audio_path, metadata, features, labels)\n",
    "n_bands, n_frames = extract_properties(audio_path +\"/fold11/0a07b229-7d2b-4d2b-8f32-c94cbc7b1487_chan0_v0.wav\")\n",
    "print(f\"{n_bands}, { n_frames}\")"
   ]
  },
  {
   "cell_type": "code",
   "execution_count": null,
   "metadata": {},
   "outputs": [],
   "source": [
    "print(f\"{features[1].shape}\")\n",
    "all_same_shape = all(f.shape == (1025, 173) for f in features)\n",
    "print(f\"All arrays have the shape (1025, 173): {all_same_shape}\")"
   ]
  },
  {
   "cell_type": "code",
   "execution_count": 6,
   "metadata": {},
   "outputs": [],
   "source": [
    "# Convertir las listas a arrays de numpy \n",
    "X = np.array(features)\n",
    "y = np.array(labels)"
   ]
  },
  {
   "cell_type": "code",
   "execution_count": null,
   "metadata": {},
   "outputs": [],
   "source": [
    "# Dividir los datos en conjuntos de entrenamiento y prueba\n",
    "X_train, X_test, y_train, y_test = train_test_split(X, y, test_size=0.3, random_state=42)\n",
    "print(len(X_train), len(X_test))\n",
    "print(len(y_train), len(y_test))"
   ]
  },
  {
   "cell_type": "code",
   "execution_count": null,
   "metadata": {},
   "outputs": [],
   "source": [
    "# Crear el modelo CRNN\n",
    "model = Sequential()\n",
    "\n",
    "# Parte CNN\n",
    "model.add(Conv2D(32, (3, 3), activation='relu', input_shape=(1025, 173, 1)))\n",
    "model.add(MaxPooling2D(pool_size=(2, 2)))\n",
    "model.add(Conv2D(64, (3, 3), activation='relu'))\n",
    "model.add(MaxPooling2D(pool_size=(1, 2)))\n",
    "print(model.layers[-1].output)\n",
    "model.add(Flatten())\n",
    "# Capa de salida\n",
    "print(model.layers[-1].output)\n",
    "model.add(Dense(1, activation='sigmoid'))\n",
    "# Compilar el modelo\n",
    "model.compile(optimizer='adam', loss='binary_crossentropy', metrics=['accuracy'])\n",
    "print(\"ok\")\n",
    "print(model.summary())"
   ]
  },
  {
   "cell_type": "code",
   "execution_count": null,
   "metadata": {},
   "outputs": [],
   "source": [
    "# Entrenar el modelo\n",
    "model.fit(X_train, y_train, epochs=5, batch_size=10)\n",
    "\n",
    "# Guardar el modelo entrenado\n",
    "model.save('gunshot_detection_model_NEW.h5')\n",
    "\n",
    "# Evaluar el modelo en el conjunto de prueba\n",
    "score = model.evaluate(X_test, y_test, verbose=0)\n",
    "print(f'Accuracy: {score[1]}')\n",
    "\n",
    "# Predicciones en el conjunto de prueba\n",
    "y_pred = (model.predict(X_test) > 0.5).astype(\"int32\")"
   ]
  },
  {
   "cell_type": "code",
   "execution_count": null,
   "metadata": {},
   "outputs": [],
   "source": [
    "# Generar la matriz de confusión\n",
    "cm = confusion_matrix(y_test, y_pred)\n",
    "cm_df = pd.DataFrame(cm, index=['not_gun_shot', 'gun_shot'], columns=['not_gun_shot', 'gun_shot'])\n",
    "\n",
    "# Visualizar la matriz de confusión\n",
    "plt.figure(figsize=(8, 6))\n",
    "sns.heatmap(cm_df, annot=True, fmt='d', cmap='Blues')\n",
    "plt.ylabel('Actual')\n",
    "plt.xlabel('Predicted')\n",
    "plt.title('Confusion Matrix')\n",
    "plt.show()\n",
    "\n",
    "# Reporte de clasificación\n",
    "report = classification_report(y_test, y_pred, target_names=['not_gun_shot', 'gun_shot'])\n",
    "print(report)"
   ]
  }
 ],
 "metadata": {
  "kernelspec": {
   "display_name": "Python 3",
   "language": "python",
   "name": "python3"
  },
  "language_info": {
   "codemirror_mode": {
    "name": "ipython",
    "version": 3
   },
   "file_extension": ".py",
   "mimetype": "text/x-python",
   "name": "python",
   "nbconvert_exporter": "python",
   "pygments_lexer": "ipython3",
   "version": "3.12.6"
  }
 },
 "nbformat": 4,
 "nbformat_minor": 2
}
